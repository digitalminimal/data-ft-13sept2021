{
 "cells": [
  {
   "cell_type": "markdown",
   "metadata": {},
   "source": [
    "## 4. Building a Predictive Model (Pipelining and saving)"
   ]
  },
  {
   "cell_type": "code",
   "execution_count": 2,
   "metadata": {},
   "outputs": [],
   "source": [
    "import numpy as np\n",
    "import pandas as pd\n",
    "\n",
    "from sklearn.model_selection import train_test_split\n",
    "\n",
    "from sklearn.preprocessing import StandardScaler\n",
    "from sklearn.compose import ColumnTransformer\n",
    "from sklearn.preprocessing import OneHotEncoder\n",
    "from sklearn.impute import SimpleImputer\n",
    "from sklearn.preprocessing import FunctionTransformer\n",
    "\n",
    "from sklearn.linear_model import LogisticRegression\n",
    "from sklearn.naive_bayes import GaussianNB\n",
    "from sklearn.ensemble import RandomForestClassifier\n",
    "\n",
    "from sklearn.model_selection import GridSearchCV\n",
    "from sklearn.pipeline import Pipeline, FeatureUnion\n",
    "\n",
    "from sklearn.decomposition import PCA\n",
    "from sklearn.feature_selection import SelectKBest\n",
    "\n",
    "from sklearn.metrics import accuracy_score, confusion_matrix, ConfusionMatrixDisplay # want the ones with false neg not positives\n",
    "from sklearn.metrics import recall_score, precision_score, roc_auc_score, plot_roc_curve, roc_curve, auc, RocCurveDisplay\n",
    "\n",
    "from matplotlib import pyplot as plt\n",
    "# import seaborn as sns\n",
    "from sklearn import set_config # for plotting pipeline\n",
    "\n",
    "import pickle\n"
   ]
  },
  {
   "cell_type": "code",
   "execution_count": 3,
   "metadata": {},
   "outputs": [],
   "source": [
    "# Load data\n",
    "df = pd.read_csv(\"data/data.csv\") \n",
    "\n",
    "# # REMOVE any rows with more than one null for training \n",
    "to_drop = df[df.isnull().sum(axis=1) >1].index.tolist()\n",
    "df = df.drop(to_drop)\n",
    "\n",
    "# Note this removes 13 rows"
   ]
  },
  {
   "cell_type": "code",
   "execution_count": 4,
   "metadata": {},
   "outputs": [
    {
     "data": {
      "text/plain": [
       "(552, 13)"
      ]
     },
     "execution_count": 4,
     "metadata": {},
     "output_type": "execute_result"
    }
   ],
   "source": [
    "# Remove outliers \n",
    "def remove_outliers(df, cols):\n",
    "#     cols = ['Total_Income_log']#, 'LoanAmt_Term_Ratio_Log', 'LoanAmountLog'] \n",
    "    Q1 = df[cols].quantile(0.25)\n",
    "    Q3 = df[cols].quantile(0.75)\n",
    "    IQR = Q3 - Q1\n",
    "#     df = df[~((df[cols] < (Q1 - 1.5 * IQR)) |(df[cols] > (Q3 + 1.5 * IQR))).any(axis=1)]\n",
    "    df = df[~((df[cols] > (Q3 + 2 * IQR))).any(axis=1)]\n",
    "    return df\n",
    "\n",
    "df = remove_outliers(df, ['ApplicantIncome', 'LoanAmount'])\n",
    "df.shape"
   ]
  },
  {
   "cell_type": "code",
   "execution_count": 5,
   "metadata": {},
   "outputs": [],
   "source": [
    "# Separate out target, and drop id column\n",
    "X = df.drop(columns=['Loan_Status','Loan_ID'])\n",
    "y = df['Loan_Status'].replace({'Y':1, 'N':0})\n",
    "\n",
    "# Test train split\n",
    "X_train, X_test, y_train, y_test = train_test_split(X, y, test_size = 0.2, random_state=88)"
   ]
  },
  {
   "cell_type": "code",
   "execution_count": 6,
   "metadata": {},
   "outputs": [],
   "source": [
    "# Split into cat_feats and num_feats\n",
    "cat_feats = ['Gender', 'Married', 'Dependents', 'Education', 'Self_Employed', 'Credit_History', 'Property_Area']\n",
    "num_feats = ['ApplicantIncome', 'CoapplicantIncome', 'LoanAmount', 'Loan_Amount_Term']\n",
    "\n",
    "def numFeat(data):\n",
    "    return data[num_feats]\n",
    "\n",
    "def catFeat(data):\n",
    "    return data[cat_feats]\n",
    "\n",
    "keep_num = FunctionTransformer(numFeat)\n",
    "keep_cat = FunctionTransformer(catFeat)\n",
    "\n",
    "# Note: Loan amount term is really more categorical, but leaving as numeric so can use in calculations - and will scale\n",
    "# Credit history will need to be converted to categorical"
   ]
  },
  {
   "cell_type": "code",
   "execution_count": 7,
   "metadata": {},
   "outputs": [],
   "source": [
    "# Add new columns\n",
    "def replace_income_with_total_income_log(data):\n",
    "    data['Total_Income_Log'] = np.log(data['ApplicantIncome'] + data['CoapplicantIncome'])\n",
    "    data.drop(labels=['ApplicantIncome','CoapplicantIncome'], axis=1, inplace=True)\n",
    "    return data\n",
    "\n",
    "def add_LoanAmt_Term_Ratio_Log(data):\n",
    "    data['LoanAmt_Term_Ratio_Log']=  np.log(data.LoanAmount/data.Loan_Amount_Term)\n",
    "    return data\n",
    "\n",
    "def replace_loanamount_with_loanamount_log(X):\n",
    "    data['LoanAmount_Log'] = np.log(data.LoanAmount)\n",
    "    data.drop(labels=['LoanAmount'], axis=1, inplace=True)\n",
    "    return data\n",
    "\n",
    "# This one works lovely \n",
    "def inject_features(data):\n",
    "    data['Total_Income_Log'] = np.log(data['ApplicantIncome'] + data['CoapplicantIncome'])\n",
    "    data['LoanAmt_Term_Ratio_Log']=  np.log(data['LoanAmount']/data['Loan_Amount_Term'])\n",
    "    data['LoanAmount_Log'] = np.log(data['LoanAmount'])\n",
    "    data.drop(labels=['ApplicantIncome','CoapplicantIncome', 'LoanAmount'], axis=1, inplace=True)\n",
    "    data.reset_index(inplace=True)\n",
    "    return data\n",
    "\n",
    "add_total_income_log_object = FunctionTransformer(replace_income_with_total_income_log)\n",
    "add_loanamt_term_ratio_log_object = FunctionTransformer(add_LoanAmt_Term_Ratio_Log)\n",
    "add_loanamount_log_object = FunctionTransformer(replace_loanamount_with_loanamount_log)\n",
    "\n",
    "injected_features = FunctionTransformer(inject_features)\n",
    "\n"
   ]
  },
  {
   "cell_type": "code",
   "execution_count": 8,
   "metadata": {},
   "outputs": [],
   "source": [
    "\n",
    "enc = OneHotEncoder(sparse=False)\n",
    "\n",
    "pca = PCA(n_components=3)\n",
    "\n",
    "class ToDenseTransformer():\n",
    "\n",
    "    # here you define the operation it should perform\n",
    "    def transform(self, X, y=None, **fit_params):\n",
    "        return X.todense()\n",
    "\n",
    "    # just return self\n",
    "    def fit(self, X, y=None, **fit_params):\n",
    "        return self\n",
    "    \n",
    "to_dense = ToDenseTransformer()\n",
    "\n",
    "\n",
    "selection = SelectKBest(k=3)\n",
    "\n"
   ]
  },
  {
   "cell_type": "code",
   "execution_count": 9,
   "metadata": {},
   "outputs": [],
   "source": [
    "def fill_null(data):\n",
    "    fill_NaN = SimpleImputer(missing_values=np.nan, strategy='median')\n",
    "    imputed = pd.DataFrame(fill_NaN.fit_transform(data))\n",
    "    imputed.columns = data.columns\n",
    "    imputed.index = data.index\n",
    "    return imputed\n",
    "\n",
    "fill_null1 = FunctionTransformer(fill_null)    "
   ]
  },
  {
   "cell_type": "code",
   "execution_count": 10,
   "metadata": {},
   "outputs": [],
   "source": [
    "\n",
    "numeric_transform = Pipeline([('keep_num', keep_num),\n",
    "                            ('impute_median', fill_null1),\n",
    "                            ('injected', injected_features),\n",
    "                            ('scaling', StandardScaler()),\n",
    "                            (\"kbest\", selection)]) \n",
    "\n",
    "\n",
    "categorical_transform = Pipeline([('keep_cat', keep_cat),\n",
    "                                ('impute_mode', SimpleImputer(strategy='most_frequent')), \n",
    "                                  ('one-hot-encode', OneHotEncoder(sparse=False)),\n",
    "                                  #(\"to_dense\", to_dense),\n",
    "                                 (\"pca\", pca)])\n",
    "\n",
    "all_features = FeatureUnion([('numeric_transform', numeric_transform),\n",
    "                            ('categorical_transform', categorical_transform)])"
   ]
  },
  {
   "cell_type": "markdown",
   "metadata": {},
   "source": [
    "## Logistic Regression"
   ]
  },
  {
   "cell_type": "code",
   "execution_count": 11,
   "metadata": {},
   "outputs": [
    {
     "name": "stdout",
     "output_type": "stream",
     "text": [
      "Test set accuracy: 0.7207207207207207\n",
      "Test set recall: 0.5249208860759493\n",
      "Precision: 0.7207207207207207\n"
     ]
    }
   ],
   "source": [
    "main_pipeline = Pipeline([('all_features', all_features),\n",
    "                     (\"model\", LogisticRegression())])\n",
    "\n",
    "model = main_pipeline.fit(X_train, y_train)\n",
    "\n",
    "# new_X_test = X_test.to_numpy().reshape(-1, 1)\n",
    "# new_X_test\n",
    "y_pred = model.predict(X_test)\n",
    "\n",
    "acc = accuracy_score(y_test, y_pred)\n",
    "recall = recall_score(y_test, y_pred, average='macro')\n",
    "precision =  precision_score(y_test, y_pred, average='micro')\n",
    "\n",
    "print(f'Test set accuracy: {acc}')\n",
    "print(f'Test set recall: {recall}')\n",
    "print(f'Precision: {precision}')\n"
   ]
  },
  {
   "cell_type": "code",
   "execution_count": 92,
   "metadata": {},
   "outputs": [
    {
     "data": {
      "image/png": "[encoded data removed]",
      "text/plain": [
       "<Figure size 432x288 with 1 Axes>"
      ]
     },
     "metadata": {
      "needs_background": "light"
     },
     "output_type": "display_data"
    }
   ],
   "source": [
    "fpr, tpr, thresholds = roc_curve(y_test, y_pred)\n",
    "roc_auc = auc(fpr, tpr)\n",
    "display = RocCurveDisplay(fpr=fpr, tpr=tpr, roc_auc=roc_auc,\n",
    "                                   estimator_name='example estimator')\n",
    "display.plot()\n",
    "\n",
    "plt.show()"
   ]
  },
  {
   "cell_type": "code",
   "execution_count": 12,
   "metadata": {},
   "outputs": [
    {
     "data": {
      "image/png": "[encoded data removed]",
      "text/plain": [
       "<Figure size 432x288 with 2 Axes>"
      ]
     },
     "metadata": {
      "needs_background": "light"
     },
     "output_type": "display_data"
    }
   ],
   "source": [
    "confusion = confusion_matrix(y_test, y_pred)\n",
    "cm = confusion_matrix(y_test, y_pred)\n",
    "disp = ConfusionMatrixDisplay(confusion_matrix=cm) \n",
    "disp.plot()\n",
    "plt.show();"
   ]
  },
  {
   "cell_type": "code",
   "execution_count": null,
   "metadata": {},
   "outputs": [],
   "source": [
    "# WITH GRID SEARCH\n",
    "\n",
    "pipeline = Pipeline(steps = [('all_features', all_features),\n",
    "                     (\"model\", LogisticRegression())])\n",
    "\n",
    "param_grid = {'all_features__categorical_transform__pca__n_components':[3,5,7,8, 9],\n",
    "              'all_features__numeric_transform__kbest__k': [1,2,3,4]}\n",
    "              \n",
    "\n",
    "grid_search = GridSearchCV(pipeline, param_grid=param_grid, cv=5, scoring='f1')\n",
    "grid_search.fit(X_train, y_train)\n",
    "\n",
    "best_model = grid_search.best_estimator_\n",
    "best_hyperparams = grid_search.best_params_\n",
    "best_score = grid_search.best_score_\n",
    "\n",
    "print(f'hyperparameters: {best_hyperparams}\\n {best_score}')\n",
    "\n",
    "# X_test = X_test.dropna()\n",
    "y_pred = grid_search.predict(X_test)\n",
    "\n",
    "acc = accuracy_score(y_test, y_pred)\n",
    "recall = recall_score(y_test, y_pred, average='macro')\n",
    "precision =  precision_score(y_test, y_pred, average='micro')\n",
    "\n",
    "print(f'Test set accuracy: {acc}')\n",
    "print(f'Test set recall: {recall}')\n",
    "print(f'Precision: {precision}')"
   ]
  },
  {
   "cell_type": "code",
   "execution_count": null,
   "metadata": {},
   "outputs": [],
   "source": [
    "# # Save the model\n",
    "# with open('deploy/pipeline.pickle', 'wb') as f:\n",
    "#     pickle.dump(best_model, f)"
   ]
  },
  {
   "cell_type": "code",
   "execution_count": 89,
   "metadata": {},
   "outputs": [
    {
     "data": {
      "image/png": "[encoded data removed]",
      "text/plain": [
       "<Figure size 432x288 with 2 Axes>"
      ]
     },
     "metadata": {
      "needs_background": "light"
     },
     "output_type": "display_data"
    }
   ],
   "source": [
    "confusion = confusion_matrix(y_test, y_pred)\n",
    "cm = confusion_matrix(y_test, y_pred)\n",
    "disp = ConfusionMatrixDisplay(confusion_matrix=cm) \n",
    "disp.plot()\n",
    "plt.show();"
   ]
  },
  {
   "cell_type": "code",
   "execution_count": 93,
   "metadata": {},
   "outputs": [
    {
     "data": {
      "text/html": [
       "<style>#sk-9ab7bfae-abd9-4dbf-a80c-aa86899e1ea4 {color: black;background-color: white;}#sk-9ab7bfae-abd9-4dbf-a80c-aa86899e1ea4 pre{padding: 0;}#sk-9ab7bfae-abd9-4dbf-a80c-aa86899e1ea4 div.sk-toggleable {background-color: white;}#sk-9ab7bfae-abd9-4dbf-a80c-aa86899e1ea4 label.sk-toggleable__label {cursor: pointer;display: block;width: 100%;margin-bottom: 0;padding: 0.3em;box-sizing: border-box;text-align: center;}#sk-9ab7bfae-abd9-4dbf-a80c-aa86899e1ea4 div.sk-toggleable__content {max-height: 0;max-width: 0;overflow: hidden;text-align: left;background-color: #f0f8ff;}#sk-9ab7bfae-abd9-4dbf-a80c-aa86899e1ea4 div.sk-toggleable__content pre {margin: 0.2em;color: black;border-radius: 0.25em;background-color: #f0f8ff;}#sk-9ab7bfae-abd9-4dbf-a80c-aa86899e1ea4 input.sk-toggleable__control:checked~div.sk-toggleable__content {max-height: 200px;max-width: 100%;overflow: auto;}#sk-9ab7bfae-abd9-4dbf-a80c-aa86899e1ea4 div.sk-estimator input.sk-toggleable__control:checked~label.sk-toggleable__label {background-color: #d4ebff;}#sk-9ab7bfae-abd9-4dbf-a80c-aa86899e1ea4 div.sk-label input.sk-toggleable__control:checked~label.sk-toggleable__label {background-color: #d4ebff;}#sk-9ab7bfae-abd9-4dbf-a80c-aa86899e1ea4 input.sk-hidden--visually {border: 0;clip: rect(1px 1px 1px 1px);clip: rect(1px, 1px, 1px, 1px);height: 1px;margin: -1px;overflow: hidden;padding: 0;position: absolute;width: 1px;}#sk-9ab7bfae-abd9-4dbf-a80c-aa86899e1ea4 div.sk-estimator {font-family: monospace;background-color: #f0f8ff;border: 1px dotted black;border-radius: 0.25em;box-sizing: border-box;margin-bottom: 0.5em;}#sk-9ab7bfae-abd9-4dbf-a80c-aa86899e1ea4 div.sk-estimator:hover {background-color: #d4ebff;}#sk-9ab7bfae-abd9-4dbf-a80c-aa86899e1ea4 div.sk-parallel-item::after {content: \"\";width: 100%;border-bottom: 1px solid gray;flex-grow: 1;}#sk-9ab7bfae-abd9-4dbf-a80c-aa86899e1ea4 div.sk-label:hover label.sk-toggleable__label {background-color: #d4ebff;}#sk-9ab7bfae-abd9-4dbf-a80c-aa86899e1ea4 div.sk-serial::before {content: \"\";position: absolute;border-left: 1px solid gray;box-sizing: border-box;top: 2em;bottom: 0;left: 50%;}#sk-9ab7bfae-abd9-4dbf-a80c-aa86899e1ea4 div.sk-serial {display: flex;flex-direction: column;align-items: center;background-color: white;padding-right: 0.2em;padding-left: 0.2em;}#sk-9ab7bfae-abd9-4dbf-a80c-aa86899e1ea4 div.sk-item {z-index: 1;}#sk-9ab7bfae-abd9-4dbf-a80c-aa86899e1ea4 div.sk-parallel {display: flex;align-items: stretch;justify-content: center;background-color: white;}#sk-9ab7bfae-abd9-4dbf-a80c-aa86899e1ea4 div.sk-parallel::before {content: \"\";position: absolute;border-left: 1px solid gray;box-sizing: border-box;top: 2em;bottom: 0;left: 50%;}#sk-9ab7bfae-abd9-4dbf-a80c-aa86899e1ea4 div.sk-parallel-item {display: flex;flex-direction: column;position: relative;background-color: white;}#sk-9ab7bfae-abd9-4dbf-a80c-aa86899e1ea4 div.sk-parallel-item:first-child::after {align-self: flex-end;width: 50%;}#sk-9ab7bfae-abd9-4dbf-a80c-aa86899e1ea4 div.sk-parallel-item:last-child::after {align-self: flex-start;width: 50%;}#sk-9ab7bfae-abd9-4dbf-a80c-aa86899e1ea4 div.sk-parallel-item:only-child::after {width: 0;}#sk-9ab7bfae-abd9-4dbf-a80c-aa86899e1ea4 div.sk-dashed-wrapped {border: 1px dashed gray;margin: 0 0.4em 0.5em 0.4em;box-sizing: border-box;padding-bottom: 0.4em;background-color: white;position: relative;}#sk-9ab7bfae-abd9-4dbf-a80c-aa86899e1ea4 div.sk-label label {font-family: monospace;font-weight: bold;background-color: white;display: inline-block;line-height: 1.2em;}#sk-9ab7bfae-abd9-4dbf-a80c-aa86899e1ea4 div.sk-label-container {position: relative;z-index: 2;text-align: center;}#sk-9ab7bfae-abd9-4dbf-a80c-aa86899e1ea4 div.sk-container {display: inline-block;position: relative;}</style><div id=\"sk-9ab7bfae-abd9-4dbf-a80c-aa86899e1ea4\" class\"sk-top-container\"><div class=\"sk-container\"><div class=\"sk-item sk-dashed-wrapped\"><div class=\"sk-label-container\"><div class=\"sk-label sk-toggleable\"><input class=\"sk-toggleable__control sk-hidden--visually\" id=\"89ba605d-1e80-4a6b-9be7-4614c8c27789\" type=\"checkbox\" ><label class=\"sk-toggleable__label\" for=\"89ba605d-1e80-4a6b-9be7-4614c8c27789\">Pipeline</label><div class=\"sk-toggleable__content\"><pre>Pipeline(steps=[('all_features',\n",
       "                 FeatureUnion(transformer_list=[('numeric_transform',\n",
       "                                                 Pipeline(steps=[('keep_num',\n",
       "                                                                  FunctionTransformer(func=<function numFeat at 0x7ff7391e0c10>)),\n",
       "                                                                 ('impute_median',\n",
       "                                                                  FunctionTransformer(func=<function fill_null at 0x7ff738717e50>)),\n",
       "                                                                 ('injected',\n",
       "                                                                  FunctionTransformer(func=<function inject_features at 0x7ff738717d30>)),\n",
       "                                                                 ('scaling',\n",
       "                                                                  StandardScaler()),\n",
       "                                                                 ('kbest',\n",
       "                                                                  SelectKBest(k=3))])),\n",
       "                                                ('categorical_transform',\n",
       "                                                 Pipeline(steps=[('keep_cat',\n",
       "                                                                  FunctionTransformer(func=<function catFeat at 0x7ff7391e9160>)),\n",
       "                                                                 ('impute_mode',\n",
       "                                                                  SimpleImputer(strategy='most_frequent')),\n",
       "                                                                 ('one-hot-encode',\n",
       "                                                                  OneHotEncoder(sparse=False)),\n",
       "                                                                 ('pca',\n",
       "                                                                  PCA(n_components=3))]))])),\n",
       "                ('model', RandomForestClassifier())])</pre></div></div></div><div class=\"sk-serial\"><div class=\"sk-item sk-dashed-wrapped\"><div class=\"sk-label-container\"><div class=\"sk-label sk-toggleable\"><input class=\"sk-toggleable__control sk-hidden--visually\" id=\"89030234-89cc-4bcf-820d-461ea4e35169\" type=\"checkbox\" ><label class=\"sk-toggleable__label\" for=\"89030234-89cc-4bcf-820d-461ea4e35169\">all_features: FeatureUnion</label><div class=\"sk-toggleable__content\"><pre>FeatureUnion(transformer_list=[('numeric_transform',\n",
       "                                Pipeline(steps=[('keep_num',\n",
       "                                                 FunctionTransformer(func=<function numFeat at 0x7ff7391e0c10>)),\n",
       "                                                ('impute_median',\n",
       "                                                 FunctionTransformer(func=<function fill_null at 0x7ff738717e50>)),\n",
       "                                                ('injected',\n",
       "                                                 FunctionTransformer(func=<function inject_features at 0x7ff738717d30>)),\n",
       "                                                ('scaling', StandardScaler()),\n",
       "                                                ('kbest', SelectKBest(k=3))])),\n",
       "                               ('categorical_transform',\n",
       "                                Pipeline(steps=[('keep_cat',\n",
       "                                                 FunctionTransformer(func=<function catFeat at 0x7ff7391e9160>)),\n",
       "                                                ('impute_mode',\n",
       "                                                 SimpleImputer(strategy='most_frequent')),\n",
       "                                                ('one-hot-encode',\n",
       "                                                 OneHotEncoder(sparse=False)),\n",
       "                                                ('pca',\n",
       "                                                 PCA(n_components=3))]))])</pre></div></div></div><div class=\"sk-parallel\"><div class=\"sk-parallel-item\"><div class=\"sk-item\"><div class=\"sk-label-container\"><div class=\"sk-label sk-toggleable\"><label>numeric_transform</label></div></div><div class=\"sk-serial\"><div class=\"sk-item\"><div class=\"sk-serial\"><div class=\"sk-item\"><div class=\"sk-estimator sk-toggleable\"><input class=\"sk-toggleable__control sk-hidden--visually\" id=\"21565540-8035-4069-8df5-bdf8cf91cb8e\" type=\"checkbox\" ><label class=\"sk-toggleable__label\" for=\"21565540-8035-4069-8df5-bdf8cf91cb8e\">FunctionTransformer</label><div class=\"sk-toggleable__content\"><pre>FunctionTransformer(func=<function numFeat at 0x7ff7391e0c10>)</pre></div></div></div><div class=\"sk-item\"><div class=\"sk-estimator sk-toggleable\"><input class=\"sk-toggleable__control sk-hidden--visually\" id=\"f6bd2cad-3375-41bf-acf1-8a024b2c017f\" type=\"checkbox\" ><label class=\"sk-toggleable__label\" for=\"f6bd2cad-3375-41bf-acf1-8a024b2c017f\">FunctionTransformer</label><div class=\"sk-toggleable__content\"><pre>FunctionTransformer(func=<function fill_null at 0x7ff738717e50>)</pre></div></div></div><div class=\"sk-item\"><div class=\"sk-estimator sk-toggleable\"><input class=\"sk-toggleable__control sk-hidden--visually\" id=\"e0b36712-26e0-460b-82f5-4a27c233af9c\" type=\"checkbox\" ><label class=\"sk-toggleable__label\" for=\"e0b36712-26e0-460b-82f5-4a27c233af9c\">FunctionTransformer</label><div class=\"sk-toggleable__content\"><pre>FunctionTransformer(func=<function inject_features at 0x7ff738717d30>)</pre></div></div></div><div class=\"sk-item\"><div class=\"sk-estimator sk-toggleable\"><input class=\"sk-toggleable__control sk-hidden--visually\" id=\"c8867503-3add-47fb-a414-a91d8ce2cd29\" type=\"checkbox\" ><label class=\"sk-toggleable__label\" for=\"c8867503-3add-47fb-a414-a91d8ce2cd29\">StandardScaler</label><div class=\"sk-toggleable__content\"><pre>StandardScaler()</pre></div></div></div><div class=\"sk-item\"><div class=\"sk-estimator sk-toggleable\"><input class=\"sk-toggleable__control sk-hidden--visually\" id=\"09cd1a7e-4712-418d-9aba-3241436cda29\" type=\"checkbox\" ><label class=\"sk-toggleable__label\" for=\"09cd1a7e-4712-418d-9aba-3241436cda29\">SelectKBest</label><div class=\"sk-toggleable__content\"><pre>SelectKBest(k=3)</pre></div></div></div></div></div></div></div></div><div class=\"sk-parallel-item\"><div class=\"sk-item\"><div class=\"sk-label-container\"><div class=\"sk-label sk-toggleable\"><label>categorical_transform</label></div></div><div class=\"sk-serial\"><div class=\"sk-item\"><div class=\"sk-serial\"><div class=\"sk-item\"><div class=\"sk-estimator sk-toggleable\"><input class=\"sk-toggleable__control sk-hidden--visually\" id=\"c15d280f-3353-44d8-9639-992c3045e0f7\" type=\"checkbox\" ><label class=\"sk-toggleable__label\" for=\"c15d280f-3353-44d8-9639-992c3045e0f7\">FunctionTransformer</label><div class=\"sk-toggleable__content\"><pre>FunctionTransformer(func=<function catFeat at 0x7ff7391e9160>)</pre></div></div></div><div class=\"sk-item\"><div class=\"sk-estimator sk-toggleable\"><input class=\"sk-toggleable__control sk-hidden--visually\" id=\"d8367ef1-c173-4dff-99bd-7cf99942260b\" type=\"checkbox\" ><label class=\"sk-toggleable__label\" for=\"d8367ef1-c173-4dff-99bd-7cf99942260b\">SimpleImputer</label><div class=\"sk-toggleable__content\"><pre>SimpleImputer(strategy='most_frequent')</pre></div></div></div><div class=\"sk-item\"><div class=\"sk-estimator sk-toggleable\"><input class=\"sk-toggleable__control sk-hidden--visually\" id=\"3948f87f-9bf2-420e-b90c-608a8ac30995\" type=\"checkbox\" ><label class=\"sk-toggleable__label\" for=\"3948f87f-9bf2-420e-b90c-608a8ac30995\">OneHotEncoder</label><div class=\"sk-toggleable__content\"><pre>OneHotEncoder(sparse=False)</pre></div></div></div><div class=\"sk-item\"><div class=\"sk-estimator sk-toggleable\"><input class=\"sk-toggleable__control sk-hidden--visually\" id=\"add21c41-3c72-4c4f-8c44-ceba5f7e4f38\" type=\"checkbox\" ><label class=\"sk-toggleable__label\" for=\"add21c41-3c72-4c4f-8c44-ceba5f7e4f38\">PCA</label><div class=\"sk-toggleable__content\"><pre>PCA(n_components=3)</pre></div></div></div></div></div></div></div></div></div></div><div class=\"sk-item\"><div class=\"sk-estimator sk-toggleable\"><input class=\"sk-toggleable__control sk-hidden--visually\" id=\"dd60e92b-91af-46f9-bf29-2f9b30f05f62\" type=\"checkbox\" ><label class=\"sk-toggleable__label\" for=\"dd60e92b-91af-46f9-bf29-2f9b30f05f62\">RandomForestClassifier</label><div class=\"sk-toggleable__content\"><pre>RandomForestClassifier()</pre></div></div></div></div></div></div></div>"
      ],
      "text/plain": [
       "Pipeline(steps=[('all_features',\n",
       "                 FeatureUnion(transformer_list=[('numeric_transform',\n",
       "                                                 Pipeline(steps=[('keep_num',\n",
       "                                                                  FunctionTransformer(func=<function numFeat at 0x7ff7391e0c10>)),\n",
       "                                                                 ('impute_median',\n",
       "                                                                  FunctionTransformer(func=<function fill_null at 0x7ff738717e50>)),\n",
       "                                                                 ('injected',\n",
       "                                                                  FunctionTransformer(func=<function inject_features at 0x7ff738717d30>)),\n",
       "                                                                 ('scaling',\n",
       "                                                                  StandardScaler()),\n",
       "                                                                 ('kbest',\n",
       "                                                                  SelectKBest(k=3))])),\n",
       "                                                ('categorical_transform',\n",
       "                                                 Pipeline(steps=[('keep_cat',\n",
       "                                                                  FunctionTransformer(func=<function catFeat at 0x7ff7391e9160>)),\n",
       "                                                                 ('impute_mode',\n",
       "                                                                  SimpleImputer(strategy='most_frequent')),\n",
       "                                                                 ('one-hot-encode',\n",
       "                                                                  OneHotEncoder(sparse=False)),\n",
       "                                                                 ('pca',\n",
       "                                                                  PCA(n_components=3))]))])),\n",
       "                ('model', RandomForestClassifier())])"
      ]
     },
     "execution_count": 93,
     "metadata": {},
     "output_type": "execute_result"
    }
   ],
   "source": [
    "from sklearn import set_config\n",
    "set_config(display='diagram')\n",
    "\n",
    "pipeline"
   ]
  },
  {
   "cell_type": "markdown",
   "metadata": {},
   "source": [
    "## Random Forest"
   ]
  },
  {
   "cell_type": "code",
   "execution_count": 90,
   "metadata": {},
   "outputs": [
    {
     "name": "stdout",
     "output_type": "stream",
     "text": [
      "hyperparameters: {'all_features__categorical_transform__pca__n_components': 9, 'all_features__numeric_transform__kbest__k': 1, 'model__max_depth': 2, 'model__n_estimators': 100}\n",
      " 0.886972228551176\n",
      "Test set accuracy: 0.8018018018018018\n",
      "Test set recall: 0.6748417721518987\n",
      "Precision: 0.8018018018018018\n"
     ]
    }
   ],
   "source": [
    "param_grid = {'all_features__categorical_transform__pca__n_components':[3,5,7,9,11],\n",
    "              'all_features__numeric_transform__kbest__k': [1,2,3,4],\n",
    "            'model__n_estimators': [100, 200,300, 500],\n",
    "              'model__max_depth': [1,2, 3, 7, 10, 20]\n",
    "             }\n",
    "\n",
    "pipeline = Pipeline(steps = [('all_features', all_features),\n",
    "                     (\"model\", RandomForestClassifier())])\n",
    "              \n",
    "\n",
    "grid_search = GridSearchCV(pipeline, param_grid=param_grid, cv=5, scoring='f1', n_jobs=-1)\n",
    "grid_search.fit(X_train, y_train)\n",
    "\n",
    "best_model = grid_search.best_estimator_\n",
    "best_hyperparams = grid_search.best_params_\n",
    "best_score = grid_search.best_score_\n",
    "\n",
    "print(f'hyperparameters: {best_hyperparams}\\n {best_score}')\n",
    "\n",
    "\n",
    "y_pred = grid_search.predict(X_test)\n",
    "\n",
    "acc = accuracy_score(y_test, y_pred)\n",
    "recall = recall_score(y_test, y_pred, average='macro')\n",
    "precision =  precision_score(y_test, y_pred, average='micro')\n",
    "\n",
    "print(f'Test set accuracy: {acc}')\n",
    "print(f'Test set recall: {recall}')\n",
    "print(f'Precision: {precision}')"
   ]
  },
  {
   "cell_type": "code",
   "execution_count": 91,
   "metadata": {},
   "outputs": [
    {
     "data": {
      "image/png": "[encoded data removed]",
      "text/plain": [
       "<Figure size 432x288 with 2 Axes>"
      ]
     },
     "metadata": {
      "needs_background": "light"
     },
     "output_type": "display_data"
    }
   ],
   "source": [
    "confusion = confusion_matrix(y_test, y_pred)\n",
    "cm = confusion_matrix(y_test, y_pred)\n",
    "disp = ConfusionMatrixDisplay(confusion_matrix=cm) \n",
    "disp.plot()\n",
    "plt.show();"
   ]
  },
  {
   "cell_type": "code",
   "execution_count": null,
   "metadata": {},
   "outputs": [],
   "source": [
    "# Save the model\n",
    "with open('deploy/rf_pipeline.pickle', 'wb') as f:\n",
    "    pickle.dump(grid_search, f)"
   ]
  },
  {
   "cell_type": "markdown",
   "metadata": {},
   "source": [
    "## Naive Bayes"
   ]
  },
  {
   "cell_type": "code",
   "execution_count": 15,
   "metadata": {},
   "outputs": [
    {
     "name": "stdout",
     "output_type": "stream",
     "text": [
      "hyperparameters: {'all_features__categorical_transform__pca__n_components': 7, 'all_features__numeric_transform__kbest__k': 1}\n",
      " 0.8723548757064489\n",
      "Test set accuracy: 0.8108108108108109\n",
      "Test set recall: 0.7090585443037974\n",
      "Precision: 0.8108108108108109\n"
     ]
    }
   ],
   "source": [
    "pipeline = Pipeline(steps = [('all_features', all_features),\n",
    "                     (\"model\",  GaussianNB())])\n",
    "\n",
    "param_grid = {'all_features__categorical_transform__pca__n_components':[3,5,7,9,11],\n",
    "              'all_features__numeric_transform__kbest__k': [1,2,3,4],\n",
    "             }\n",
    "\n",
    "          \n",
    "grid_search = GridSearchCV(pipeline, param_grid=param_grid, cv=5, scoring='f1')\n",
    "grid_search.fit(X_train, y_train)\n",
    "\n",
    "best_model = grid_search.best_estimator_\n",
    "best_hyperparams = grid_search.best_params_\n",
    "best_score = grid_search.best_score_\n",
    "\n",
    "print(f'hyperparameters: {best_hyperparams}\\n {best_score}')\n",
    "\n",
    "y_pred = grid_search.predict(X_test)\n",
    "\n",
    "acc = accuracy_score(y_test, y_pred)\n",
    "recall = recall_score(y_test, y_pred, average='macro')\n",
    "precision =  precision_score(y_test, y_pred, average='micro')\n",
    "\n",
    "print(f'Test set accuracy: {acc}')\n",
    "print(f'Test set recall: {recall}')\n",
    "print(f'Precision: {precision}')"
   ]
  },
  {
   "cell_type": "code",
   "execution_count": 16,
   "metadata": {},
   "outputs": [
    {
     "data": {
      "image/png": "[encoded data removed]",
      "text/plain": [
       "<Figure size 432x288 with 2 Axes>"
      ]
     },
     "metadata": {
      "needs_background": "light"
     },
     "output_type": "display_data"
    }
   ],
   "source": [
    "confusion = confusion_matrix(y_test, y_pred)\n",
    "cm = confusion_matrix(y_test, y_pred)\n",
    "disp = ConfusionMatrixDisplay(confusion_matrix=cm) \n",
    "disp.plot()\n",
    "plt.show();"
   ]
  },
  {
   "cell_type": "code",
   "execution_count": null,
   "metadata": {},
   "outputs": [],
   "source": []
  }
 ],
 "metadata": {
  "interpreter": {
   "hash": "40d3a090f54c6569ab1632332b64b2c03c39dcf918b08424e98f38b5ae0af88f"
  },
  "kernelspec": {
   "display_name": "Python 3 (ipykernel)",
   "language": "python",
   "name": "python3"
  },
  "language_info": {
   "codemirror_mode": {
    "name": "ipython",
    "version": 3
   },
   "file_extension": ".py",
   "mimetype": "text/x-python",
   "name": "python",
   "nbconvert_exporter": "python",
   "pygments_lexer": "ipython3",
   "version": "3.8.11"
  }
 },
 "nbformat": 4,
 "nbformat_minor": 4
}
