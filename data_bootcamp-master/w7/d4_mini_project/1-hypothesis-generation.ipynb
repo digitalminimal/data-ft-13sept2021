{
 "cells": [
  {
   "cell_type": "markdown",
   "id": "8f68c6db-04c4-4d03-b309-cc09c5791596",
   "metadata": {},
   "source": [
    "## 1. Hypothesis Generation\n",
    "\n",
    "Generating a hypothesis is a major step in the process of analyzing data. This involves understanding the problem and formulating a meaningful hypothesis about what could potentially have a good impact on the outcome. This is done BEFORE looking at the data, and we end up creating a laundry list of the different analyses which we can potentially perform if data is available.\n",
    "\n",
    "#### Possible hypotheses\n",
    "Which applicants are more likely to get a loan\n",
    "\n",
    "1. Applicants having a credit history \n",
    "2. Applicants with higher applicant and co-applicant incomes\n",
    "3. Applicants with higher education level\n",
    "4. Properties in urban areas with high growth perspectives\n",
    "\n",
    "Do more brainstorming and create some hypotheses of your own. Remember that the data might not be sufficient to test all of these, but forming these enables a better understanding of the problem."
   ]
  },
  {
   "cell_type": "code",
   "execution_count": null,
   "id": "99bf1b01-0d5a-4a27-93da-ff5c4f888326",
   "metadata": {},
   "outputs": [],
   "source": [
    "# credit rating - or current credit debt\n",
    "# coapplicants history and credit rating\n",
    "# previous default on loan or previous bankruptcy\n",
    "# not just history but how the repayment history is\n",
    "# amount asked relative to income or total income if married their income as well\n",
    "# payment period vs amount (monthly payments relative to income)\n"
   ]
  },
  {
   "cell_type": "code",
   "execution_count": 2,
   "id": "dc1df427-f2ea-43b3-a7f3-9328691e1009",
   "metadata": {},
   "outputs": [],
   "source": [
    "import pandas as pd\n",
    "import numpy as np"
   ]
  },
  {
   "cell_type": "code",
   "execution_count": 3,
   "id": "008acb7d-169b-4ae1-a767-c56f3433dec4",
   "metadata": {},
   "outputs": [],
   "source": [
    "df = pd.read_csv(\"data/data.csv\")"
   ]
  },
  {
   "cell_type": "code",
   "execution_count": 4,
   "id": "abe6c55a-87d0-4cf8-abbf-c22593d6aa53",
   "metadata": {},
   "outputs": [
    {
     "data": {
      "text/html": [
       "<div>\n",
       "<style scoped>\n",
       "    .dataframe tbody tr th:only-of-type {\n",
       "        vertical-align: middle;\n",
       "    }\n",
       "\n",
       "    .dataframe tbody tr th {\n",
       "        vertical-align: top;\n",
       "    }\n",
       "\n",
       "    .dataframe thead th {\n",
       "        text-align: right;\n",
       "    }\n",
       "</style>\n",
       "<table border=\"1\" class=\"dataframe\">\n",
       "  <thead>\n",
       "    <tr style=\"text-align: right;\">\n",
       "      <th></th>\n",
       "      <th>Loan_ID</th>\n",
       "      <th>Gender</th>\n",
       "      <th>Married</th>\n",
       "      <th>Dependents</th>\n",
       "      <th>Education</th>\n",
       "      <th>Self_Employed</th>\n",
       "      <th>ApplicantIncome</th>\n",
       "      <th>CoapplicantIncome</th>\n",
       "      <th>LoanAmount</th>\n",
       "      <th>Loan_Amount_Term</th>\n",
       "      <th>Credit_History</th>\n",
       "      <th>Property_Area</th>\n",
       "      <th>Loan_Status</th>\n",
       "    </tr>\n",
       "  </thead>\n",
       "  <tbody>\n",
       "    <tr>\n",
       "      <th>0</th>\n",
       "      <td>LP001002</td>\n",
       "      <td>Male</td>\n",
       "      <td>No</td>\n",
       "      <td>0</td>\n",
       "      <td>Graduate</td>\n",
       "      <td>No</td>\n",
       "      <td>5849</td>\n",
       "      <td>0.0</td>\n",
       "      <td>NaN</td>\n",
       "      <td>360.0</td>\n",
       "      <td>1.0</td>\n",
       "      <td>Urban</td>\n",
       "      <td>Y</td>\n",
       "    </tr>\n",
       "    <tr>\n",
       "      <th>1</th>\n",
       "      <td>LP001003</td>\n",
       "      <td>Male</td>\n",
       "      <td>Yes</td>\n",
       "      <td>1</td>\n",
       "      <td>Graduate</td>\n",
       "      <td>No</td>\n",
       "      <td>4583</td>\n",
       "      <td>1508.0</td>\n",
       "      <td>128.0</td>\n",
       "      <td>360.0</td>\n",
       "      <td>1.0</td>\n",
       "      <td>Rural</td>\n",
       "      <td>N</td>\n",
       "    </tr>\n",
       "    <tr>\n",
       "      <th>2</th>\n",
       "      <td>LP001005</td>\n",
       "      <td>Male</td>\n",
       "      <td>Yes</td>\n",
       "      <td>0</td>\n",
       "      <td>Graduate</td>\n",
       "      <td>Yes</td>\n",
       "      <td>3000</td>\n",
       "      <td>0.0</td>\n",
       "      <td>66.0</td>\n",
       "      <td>360.0</td>\n",
       "      <td>1.0</td>\n",
       "      <td>Urban</td>\n",
       "      <td>Y</td>\n",
       "    </tr>\n",
       "    <tr>\n",
       "      <th>3</th>\n",
       "      <td>LP001006</td>\n",
       "      <td>Male</td>\n",
       "      <td>Yes</td>\n",
       "      <td>0</td>\n",
       "      <td>Not Graduate</td>\n",
       "      <td>No</td>\n",
       "      <td>2583</td>\n",
       "      <td>2358.0</td>\n",
       "      <td>120.0</td>\n",
       "      <td>360.0</td>\n",
       "      <td>1.0</td>\n",
       "      <td>Urban</td>\n",
       "      <td>Y</td>\n",
       "    </tr>\n",
       "    <tr>\n",
       "      <th>4</th>\n",
       "      <td>LP001008</td>\n",
       "      <td>Male</td>\n",
       "      <td>No</td>\n",
       "      <td>0</td>\n",
       "      <td>Graduate</td>\n",
       "      <td>No</td>\n",
       "      <td>6000</td>\n",
       "      <td>0.0</td>\n",
       "      <td>141.0</td>\n",
       "      <td>360.0</td>\n",
       "      <td>1.0</td>\n",
       "      <td>Urban</td>\n",
       "      <td>Y</td>\n",
       "    </tr>\n",
       "  </tbody>\n",
       "</table>\n",
       "</div>"
      ],
      "text/plain": [
       "    Loan_ID Gender Married Dependents     Education Self_Employed  \\\n",
       "0  LP001002   Male      No          0      Graduate            No   \n",
       "1  LP001003   Male     Yes          1      Graduate            No   \n",
       "2  LP001005   Male     Yes          0      Graduate           Yes   \n",
       "3  LP001006   Male     Yes          0  Not Graduate            No   \n",
       "4  LP001008   Male      No          0      Graduate            No   \n",
       "\n",
       "   ApplicantIncome  CoapplicantIncome  LoanAmount  Loan_Amount_Term  \\\n",
       "0             5849                0.0         NaN             360.0   \n",
       "1             4583             1508.0       128.0             360.0   \n",
       "2             3000                0.0        66.0             360.0   \n",
       "3             2583             2358.0       120.0             360.0   \n",
       "4             6000                0.0       141.0             360.0   \n",
       "\n",
       "   Credit_History Property_Area Loan_Status  \n",
       "0             1.0         Urban           Y  \n",
       "1             1.0         Rural           N  \n",
       "2             1.0         Urban           Y  \n",
       "3             1.0         Urban           Y  \n",
       "4             1.0         Urban           Y  "
      ]
     },
     "execution_count": 4,
     "metadata": {},
     "output_type": "execute_result"
    }
   ],
   "source": [
    "df.head()"
   ]
  },
  {
   "cell_type": "markdown",
   "id": "a2e3324f-e29e-4515-b0c7-2e32843fe1af",
   "metadata": {},
   "source": [
    "#### 1. Applicants having a credit history\n",
    "\n",
    "I think if you have a credit history, more likely to get loan."
   ]
  },
  {
   "cell_type": "code",
   "execution_count": 5,
   "id": "6e56d4ce-990a-442a-bf46-2dffe3cdbfd8",
   "metadata": {},
   "outputs": [
    {
     "data": {
      "text/plain": [
       "0.9185667752442996"
      ]
     },
     "execution_count": 5,
     "metadata": {},
     "output_type": "execute_result"
    }
   ],
   "source": [
    "# NOTE CHANGE NA TO 0 FOR THIS COLUMN\n",
    "\n",
    "df_credit_hist = df[['Credit_History', 'Loan_Status']]\n",
    "df_credit_hist.count()\n",
    "\n",
    "# Percentage without history: \n",
    "df_credit_hist.Credit_History.count() / df_credit_hist.Loan_Status.count()"
   ]
  },
  {
   "cell_type": "code",
   "execution_count": 14,
   "id": "1fa5c7d1-c852-40b3-82a7-f31488e4e260",
   "metadata": {},
   "outputs": [
    {
     "data": {
      "text/plain": [
       "Credit_History    0.00\n",
       "Loan_Status       0.74\n",
       "dtype: float64"
      ]
     },
     "execution_count": 14,
     "metadata": {},
     "output_type": "execute_result"
    }
   ],
   "source": [
    "# Without history\n",
    "df_no_hist = df_credit_hist[df_credit_hist.Credit_History.isna()] \n",
    "df_no_hist[df_no_hist.Loan_Status == 'Y'].count() / df_no_hist.Loan_Status.count()"
   ]
  },
  {
   "cell_type": "code",
   "execution_count": 15,
   "id": "51d59c17-6b0c-4114-8ab8-dccbcafa0787",
   "metadata": {},
   "outputs": [
    {
     "data": {
      "text/plain": [
       "Credit_History    0.682624\n",
       "Loan_Status       0.682624\n",
       "dtype: float64"
      ]
     },
     "execution_count": 15,
     "metadata": {},
     "output_type": "execute_result"
    }
   ],
   "source": [
    "# With history\n",
    "df_with_hist = df_credit_hist[df_credit_hist.Credit_History.isna() == False] \n",
    "df_with_hist[df_with_hist.Loan_Status == 'Y'].count() / df_with_hist.Loan_Status.count()"
   ]
  },
  {
   "cell_type": "code",
   "execution_count": null,
   "id": "61fd7847-9415-4eaa-8302-9477a10bfbf9",
   "metadata": {},
   "outputs": [],
   "source": [
    "# I was wrong, history not really indicator for loan approval (as you could have bad history), but most applications (90%) had \n",
    "# credit history"
   ]
  },
  {
   "cell_type": "markdown",
   "id": "50ead06e-b2ea-4ebb-832c-cffde7bbf6b4",
   "metadata": {},
   "source": [
    "#### 2. Applicants with higher applicant and co-applicant incomes\n",
    "\n",
    "Think higher income, higher rate of approval."
   ]
  },
  {
   "cell_type": "code",
   "execution_count": 7,
   "id": "906313b7-f36e-47c1-8058-3dab90f3f13a",
   "metadata": {},
   "outputs": [
    {
     "name": "stderr",
     "output_type": "stream",
     "text": [
      "<ipython-input-7-bbb2bb4319ca>:3: SettingWithCopyWarning: \n",
      "A value is trying to be set on a copy of a slice from a DataFrame.\n",
      "Try using .loc[row_indexer,col_indexer] = value instead\n",
      "\n",
      "See the caveats in the documentation: https://pandas.pydata.org/pandas-docs/stable/user_guide/indexing.html#returning-a-view-versus-a-copy\n",
      "  df_income['Combined_Income'] = df['ApplicantIncome'] + df['CoapplicantIncome']\n"
     ]
    },
    {
     "data": {
      "text/html": [
       "<div>\n",
       "<style scoped>\n",
       "    .dataframe tbody tr th:only-of-type {\n",
       "        vertical-align: middle;\n",
       "    }\n",
       "\n",
       "    .dataframe tbody tr th {\n",
       "        vertical-align: top;\n",
       "    }\n",
       "\n",
       "    .dataframe thead th {\n",
       "        text-align: right;\n",
       "    }\n",
       "</style>\n",
       "<table border=\"1\" class=\"dataframe\">\n",
       "  <thead>\n",
       "    <tr style=\"text-align: right;\">\n",
       "      <th></th>\n",
       "      <th>ApplicantIncome</th>\n",
       "      <th>CoapplicantIncome</th>\n",
       "      <th>Loan_Status</th>\n",
       "      <th>Combined_Income</th>\n",
       "    </tr>\n",
       "  </thead>\n",
       "  <tbody>\n",
       "    <tr>\n",
       "      <th>0</th>\n",
       "      <td>5849</td>\n",
       "      <td>0.0</td>\n",
       "      <td>Y</td>\n",
       "      <td>5849.0</td>\n",
       "    </tr>\n",
       "    <tr>\n",
       "      <th>1</th>\n",
       "      <td>4583</td>\n",
       "      <td>1508.0</td>\n",
       "      <td>N</td>\n",
       "      <td>6091.0</td>\n",
       "    </tr>\n",
       "    <tr>\n",
       "      <th>2</th>\n",
       "      <td>3000</td>\n",
       "      <td>0.0</td>\n",
       "      <td>Y</td>\n",
       "      <td>3000.0</td>\n",
       "    </tr>\n",
       "    <tr>\n",
       "      <th>3</th>\n",
       "      <td>2583</td>\n",
       "      <td>2358.0</td>\n",
       "      <td>Y</td>\n",
       "      <td>4941.0</td>\n",
       "    </tr>\n",
       "    <tr>\n",
       "      <th>4</th>\n",
       "      <td>6000</td>\n",
       "      <td>0.0</td>\n",
       "      <td>Y</td>\n",
       "      <td>6000.0</td>\n",
       "    </tr>\n",
       "  </tbody>\n",
       "</table>\n",
       "</div>"
      ],
      "text/plain": [
       "   ApplicantIncome  CoapplicantIncome Loan_Status  Combined_Income\n",
       "0             5849                0.0           Y           5849.0\n",
       "1             4583             1508.0           N           6091.0\n",
       "2             3000                0.0           Y           3000.0\n",
       "3             2583             2358.0           Y           4941.0\n",
       "4             6000                0.0           Y           6000.0"
      ]
     },
     "execution_count": 7,
     "metadata": {},
     "output_type": "execute_result"
    }
   ],
   "source": [
    "# Add together Applicatant and Coapplicant?\n",
    "df_income = df[['ApplicantIncome', 'CoapplicantIncome', 'Loan_Status']]\n",
    "df_income['Combined_Income'] = df['ApplicantIncome'] + df['CoapplicantIncome']\n",
    "df_income.head()"
   ]
  },
  {
   "cell_type": "code",
   "execution_count": 37,
   "id": "2385d73a-fcf7-401d-a28b-279fd395f49b",
   "metadata": {},
   "outputs": [
    {
     "name": "stdout",
     "output_type": "stream",
     "text": [
      "median approved income: 3812.5\n",
      "mean approved income: 5384.068720379147\n",
      "max approved income: 63337\n",
      "min approved income: 210\n"
     ]
    }
   ],
   "source": [
    "# Approved loans (Applicant income)\n",
    "df_income_approved = df_income[df_income.Loan_Status == 'Y']\n",
    "print(f'median approved income: {df_income_approved.ApplicantIncome.median()}')\n",
    "print(f'mean approved income: {df_income_approved.ApplicantIncome.mean()}')      \n",
    "print(f'max approved income: {df_income_approved.ApplicantIncome.max()}')   \n",
    "print(f'min approved income: {df_income_approved.ApplicantIncome.min()}')   "
   ]
  },
  {
   "cell_type": "code",
   "execution_count": 38,
   "id": "af2c393c-2b8b-4a94-a478-84fa1b779e90",
   "metadata": {},
   "outputs": [
    {
     "name": "stdout",
     "output_type": "stream",
     "text": [
      "median declined income: 3833.5\n",
      "mean declined income: 5446.078125\n",
      "max declined income: 81000\n",
      "min declined income: 150\n"
     ]
    }
   ],
   "source": [
    "# Not approved loans (Applicant income)\n",
    "df_income_approved = df_income[df_income.Loan_Status == 'N']\n",
    "print(f'median declined income: {df_income_approved.ApplicantIncome.median()}')\n",
    "print(f'mean declined income: {df_income_approved.ApplicantIncome.mean()}')      \n",
    "print(f'max declined income: {df_income_approved.ApplicantIncome.max()}')   \n",
    "print(f'min declined income: {df_income_approved.ApplicantIncome.min()}')   "
   ]
  },
  {
   "cell_type": "code",
   "execution_count": 39,
   "id": "3e7d5305-4915-492e-aeba-e3ebac3ab19f",
   "metadata": {},
   "outputs": [
    {
     "name": "stdout",
     "output_type": "stream",
     "text": [
      "For combined applicant and co-applicant income\n",
      "median approved income: 5439.0\n",
      "mean approved income: 6888.585118456492\n",
      "max approved income: 63337.0\n",
      "min approved income: 1963.0\n"
     ]
    }
   ],
   "source": [
    "# Approved loans (Combined income)\n",
    "df_income_approved = df_income[df_income.Loan_Status == 'Y']\n",
    "print(f'For combined applicant and co-applicant income')\n",
    "print(f'median approved income: {df_income_approved.Combined_Income.median()}')\n",
    "print(f'mean approved income: {df_income_approved.Combined_Income.mean()}')      \n",
    "print(f'max approved income: {df_income_approved.Combined_Income.max()}')   \n",
    "print(f'min approved income: {df_income_approved.Combined_Income.min()}')   "
   ]
  },
  {
   "cell_type": "code",
   "execution_count": 41,
   "id": "99f987a5-cd0a-4cbc-9a21-e7b3d8d2caa3",
   "metadata": {},
   "outputs": [
    {
     "name": "stdout",
     "output_type": "stream",
     "text": [
      "For combined applicant and co-applicant income\n",
      "median declined income: 5289.5\n",
      "mean declined income: 7323.885416666667\n",
      "max declined income: 81000.0\n",
      "min declined income: 1442.0\n"
     ]
    }
   ],
   "source": [
    "# Declined loans (Combined income)\n",
    "df_income_approved = df_income[df_income.Loan_Status == 'N']\n",
    "print(f'For combined applicant and co-applicant income')\n",
    "print(f'median declined income: {df_income_approved.Combined_Income.median()}')\n",
    "print(f'mean declined income: {df_income_approved.Combined_Income.mean()}')      \n",
    "print(f'max declined income: {df_income_approved.Combined_Income.max()}')   \n",
    "print(f'min declined income: {df_income_approved.Combined_Income.min()}')"
   ]
  },
  {
   "cell_type": "code",
   "execution_count": null,
   "id": "c785b7a2-1e72-45a3-89b0-e0e1be80d8c4",
   "metadata": {},
   "outputs": [],
   "source": [
    "# Interesting - no impact really - must be impact of loan ammount as well..."
   ]
  },
  {
   "cell_type": "markdown",
   "id": "5dc94ec5-6fc0-45b9-af8a-194b8c61b3be",
   "metadata": {},
   "source": [
    "#### 3. Applicants with higher education level\n",
    "\n",
    "Think higher education, higher rate of approval"
   ]
  },
  {
   "cell_type": "code",
   "execution_count": 18,
   "id": "7c8897d6-4d87-4a94-a59b-e6ebf9b16ba6",
   "metadata": {},
   "outputs": [
    {
     "data": {
      "text/plain": [
       "array(['Graduate', 'Not Graduate'], dtype=object)"
      ]
     },
     "execution_count": 18,
     "metadata": {},
     "output_type": "execute_result"
    }
   ],
   "source": [
    "# ENCODE THIS 1, 0\n",
    "df_edu = df[['Education', 'Loan_Status']]\n",
    "df_edu.Education.unique()"
   ]
  },
  {
   "cell_type": "code",
   "execution_count": 43,
   "id": "0476d5b2-4ae3-4c13-a2d8-2b0c491b9f1a",
   "metadata": {},
   "outputs": [
    {
     "data": {
      "text/plain": [
       "Education      480\n",
       "Loan_Status    480\n",
       "dtype: int64"
      ]
     },
     "execution_count": 43,
     "metadata": {},
     "output_type": "execute_result"
    }
   ],
   "source": [
    "df_edu[df_edu['Education'] == 'Graduate'].count()"
   ]
  },
  {
   "cell_type": "code",
   "execution_count": 44,
   "id": "f2a6f5c4-7edb-47e6-b6e6-c339196a7915",
   "metadata": {},
   "outputs": [],
   "source": [
    "df_grad = df_edu[df_edu['Education'] == 'Graduate']\n",
    "df_not_grad = df_edu[df_edu['Education'] == 'Not Graduate']"
   ]
  },
  {
   "cell_type": "code",
   "execution_count": 45,
   "id": "3fe1fd2f-a7ec-44da-a5da-464f72f3610e",
   "metadata": {},
   "outputs": [
    {
     "data": {
      "text/plain": [
       "Education      0.708333\n",
       "Loan_Status    0.708333\n",
       "dtype: float64"
      ]
     },
     "execution_count": 45,
     "metadata": {},
     "output_type": "execute_result"
    }
   ],
   "source": [
    "# percentage graduated approved loans\n",
    "df_grad[df_grad.Loan_Status == 'Y'].count() / df_grad.Loan_Status.count()"
   ]
  },
  {
   "cell_type": "code",
   "execution_count": 46,
   "id": "7b6f2b9d-eb53-4495-8f85-53745371ca80",
   "metadata": {},
   "outputs": [
    {
     "data": {
      "text/plain": [
       "Education      0.61194\n",
       "Loan_Status    0.61194\n",
       "dtype: float64"
      ]
     },
     "execution_count": 46,
     "metadata": {},
     "output_type": "execute_result"
    }
   ],
   "source": [
    "# percentage not graduated approved loans\n",
    "df_not_grad[df_not_grad.Loan_Status == 'Y'].count() / df_not_grad.Loan_Status.count()"
   ]
  },
  {
   "cell_type": "code",
   "execution_count": null,
   "id": "342510a6-82fd-4af0-a4a4-44fd942fdb2b",
   "metadata": {},
   "outputs": [],
   "source": [
    "# This one I may have been right on...."
   ]
  },
  {
   "cell_type": "markdown",
   "id": "0d359d74-a901-45da-bb06-4d6e1f43b9f8",
   "metadata": {},
   "source": [
    "#### 4. Properties in urban areas with high growth perspectives\n",
    "\n",
    "Think this could go either way, people in urban areas struggle too, but yeah - lets say higher approval rate"
   ]
  },
  {
   "cell_type": "code",
   "execution_count": 49,
   "id": "6690a52b-1b39-4b56-9f53-a129318bd3ef",
   "metadata": {},
   "outputs": [
    {
     "data": {
      "text/plain": [
       "Property_Area    0\n",
       "Loan_Status      0\n",
       "dtype: int64"
      ]
     },
     "execution_count": 49,
     "metadata": {},
     "output_type": "execute_result"
    }
   ],
   "source": [
    "df_area = df[['Property_Area', 'Loan_Status']]\n",
    "df_area.isna().sum()"
   ]
  },
  {
   "cell_type": "code",
   "execution_count": 56,
   "id": "769ea11c-d62a-431c-9ecf-5b4ff3b6b39c",
   "metadata": {},
   "outputs": [
    {
     "data": {
      "text/html": [
       "<div>\n",
       "<style scoped>\n",
       "    .dataframe tbody tr th:only-of-type {\n",
       "        vertical-align: middle;\n",
       "    }\n",
       "\n",
       "    .dataframe tbody tr th {\n",
       "        vertical-align: top;\n",
       "    }\n",
       "\n",
       "    .dataframe thead th {\n",
       "        text-align: right;\n",
       "    }\n",
       "</style>\n",
       "<table border=\"1\" class=\"dataframe\">\n",
       "  <thead>\n",
       "    <tr style=\"text-align: right;\">\n",
       "      <th></th>\n",
       "      <th>Property_Area</th>\n",
       "      <th>Loan_Status</th>\n",
       "    </tr>\n",
       "  </thead>\n",
       "  <tbody>\n",
       "    <tr>\n",
       "      <th>0</th>\n",
       "      <td>Urban</td>\n",
       "      <td>Y</td>\n",
       "    </tr>\n",
       "    <tr>\n",
       "      <th>2</th>\n",
       "      <td>Urban</td>\n",
       "      <td>Y</td>\n",
       "    </tr>\n",
       "    <tr>\n",
       "      <th>3</th>\n",
       "      <td>Urban</td>\n",
       "      <td>Y</td>\n",
       "    </tr>\n",
       "    <tr>\n",
       "      <th>4</th>\n",
       "      <td>Urban</td>\n",
       "      <td>Y</td>\n",
       "    </tr>\n",
       "    <tr>\n",
       "      <th>5</th>\n",
       "      <td>Urban</td>\n",
       "      <td>Y</td>\n",
       "    </tr>\n",
       "  </tbody>\n",
       "</table>\n",
       "</div>"
      ],
      "text/plain": [
       "  Property_Area Loan_Status\n",
       "0         Urban           Y\n",
       "2         Urban           Y\n",
       "3         Urban           Y\n",
       "4         Urban           Y\n",
       "5         Urban           Y"
      ]
     },
     "execution_count": 56,
     "metadata": {},
     "output_type": "execute_result"
    }
   ],
   "source": [
    "df_area.Property_Area.unique()\n",
    "df_urban = df_area[df_area.Property_Area =='Urban']\n",
    "df_rural = df_area[df_area.Property_Area =='Rural']\n",
    "df_semiurban = df_area[df_area.Property_Area =='Semiurban']\n",
    "df_urban.head()"
   ]
  },
  {
   "cell_type": "code",
   "execution_count": 59,
   "id": "fd107cdf-d2be-45f6-932e-fc4822be039a",
   "metadata": {},
   "outputs": [
    {
     "name": "stdout",
     "output_type": "stream",
     "text": [
      "Urban approval: Property_Area    0.658416\n",
      "Loan_Status      0.658416\n",
      "dtype: float64\n"
     ]
    },
    {
     "data": {
      "text/plain": [
       "Property_Area    0.32899\n",
       "Loan_Status      0.32899\n",
       "dtype: float64"
      ]
     },
     "execution_count": 59,
     "metadata": {},
     "output_type": "execute_result"
    }
   ],
   "source": [
    "# Percentage Urban Approved\n",
    "print(f'Urban approval: {df_urban[df_urban.Loan_Status == \"Y\"].count() / df_urban.Loan_Status.count()}')\n",
    "\n",
    "# Percentage of total Urban\n",
    "df_area[df_area['Property_Area'] == 'Urban'].count()/ df_area.count()"
   ]
  },
  {
   "cell_type": "code",
   "execution_count": 60,
   "id": "74af63d5-47ce-4bdf-b500-f6ea0765a87e",
   "metadata": {},
   "outputs": [
    {
     "name": "stdout",
     "output_type": "stream",
     "text": [
      "Urban approval: Property_Area    0.614525\n",
      "Loan_Status      0.614525\n",
      "dtype: float64\n"
     ]
    },
    {
     "data": {
      "text/plain": [
       "Property_Area    0.291531\n",
       "Loan_Status      0.291531\n",
       "dtype: float64"
      ]
     },
     "execution_count": 60,
     "metadata": {},
     "output_type": "execute_result"
    }
   ],
   "source": [
    "# Percentage Rural Approved\n",
    "print(f'Urban approval: {df_rural[df_rural.Loan_Status == \"Y\"].count() / df_rural.Loan_Status.count()}')\n",
    "\n",
    "# Percentage of total Rural\n",
    "df_area[df_area['Property_Area'] == 'Rural'].count()/ df_area.count()"
   ]
  },
  {
   "cell_type": "code",
   "execution_count": 61,
   "id": "e6afdb31-555e-42dc-a875-f324f2679f49",
   "metadata": {},
   "outputs": [
    {
     "name": "stdout",
     "output_type": "stream",
     "text": [
      "Urban approval: Property_Area    0.76824\n",
      "Loan_Status      0.76824\n",
      "dtype: float64\n"
     ]
    },
    {
     "data": {
      "text/plain": [
       "Property_Area    0.379479\n",
       "Loan_Status      0.379479\n",
       "dtype: float64"
      ]
     },
     "execution_count": 61,
     "metadata": {},
     "output_type": "execute_result"
    }
   ],
   "source": [
    "# Percentage Semiurban Approved\n",
    "print(f'Urban approval: {df_semiurban[df_semiurban.Loan_Status == \"Y\"].count() / df_semiurban.Loan_Status.count()}')\n",
    "\n",
    "# Percentage of total Semiurban\n",
    "df_area[df_area['Property_Area'] == 'Semiurban'].count()/ df_area.count()"
   ]
  },
  {
   "cell_type": "code",
   "execution_count": null,
   "id": "035aea04-b064-4d43-8c2c-d2c4b8b6d385",
   "metadata": {},
   "outputs": [],
   "source": [
    "# So it did have an impact - semi-urban seemed to have most approval rate and spread accross 3 categories seemed to be fairly even"
   ]
  },
  {
   "cell_type": "markdown",
   "id": "823c02d6-80e3-4978-9b9c-6ac06540aa8e",
   "metadata": {},
   "source": [
    "#### 5. Self Employed \n",
    "Think if self employed, lower approval rate"
   ]
  },
  {
   "cell_type": "code",
   "execution_count": null,
   "id": "7f2a7fb4-6965-4cfa-b409-402828933022",
   "metadata": {},
   "outputs": [],
   "source": []
  },
  {
   "cell_type": "code",
   "execution_count": null,
   "id": "9a70dbe4-dc1d-4612-a006-72258dbe8122",
   "metadata": {},
   "outputs": [],
   "source": []
  },
  {
   "cell_type": "markdown",
   "id": "56d48c36-1850-4888-9a47-44f2986112c6",
   "metadata": {},
   "source": [
    "#### 6. Gender \n",
    "Think females higher (think micro loans)"
   ]
  },
  {
   "cell_type": "code",
   "execution_count": 63,
   "id": "1a38d9b8-5c0f-4dac-8009-771af090ab4f",
   "metadata": {},
   "outputs": [
    {
     "data": {
      "text/plain": [
       "array(['Male', 'Female', nan], dtype=object)"
      ]
     },
     "execution_count": 63,
     "metadata": {},
     "output_type": "execute_result"
    }
   ],
   "source": [
    "# NOTE THERE ARE NAN genders in here - drop??\n",
    "\n",
    "df_gender = df[['Gender', 'Loan_Status']]\n",
    "df_gender.Gender.unique()"
   ]
  },
  {
   "cell_type": "code",
   "execution_count": 71,
   "id": "e2f6513b-cd32-4bc8-aaf1-c013c4b71c5e",
   "metadata": {},
   "outputs": [
    {
     "data": {
      "text/plain": [
       "Gender         13\n",
       "Loan_Status     0\n",
       "dtype: int64"
      ]
     },
     "execution_count": 71,
     "metadata": {},
     "output_type": "execute_result"
    }
   ],
   "source": [
    "df_gender.isna().sum()"
   ]
  },
  {
   "cell_type": "code",
   "execution_count": 66,
   "id": "4da0c7c6-d819-4c9b-9d3e-3d1f0a64e494",
   "metadata": {},
   "outputs": [
    {
     "data": {
      "text/plain": [
       "Gender         112\n",
       "Loan_Status    112\n",
       "dtype: int64"
      ]
     },
     "execution_count": 66,
     "metadata": {},
     "output_type": "execute_result"
    }
   ],
   "source": [
    "df_f = df_gender[df_gender.Gender == 'Female']\n",
    "df_f.count()"
   ]
  },
  {
   "cell_type": "code",
   "execution_count": 68,
   "id": "6bf2a63f-dbc5-4c82-9c12-45fe069dca4b",
   "metadata": {},
   "outputs": [
    {
     "data": {
      "text/plain": [
       "Gender         489\n",
       "Loan_Status    489\n",
       "dtype: int64"
      ]
     },
     "execution_count": 68,
     "metadata": {},
     "output_type": "execute_result"
    }
   ],
   "source": [
    "df_m = df_gender[df_gender.Gender == 'Male']\n",
    "df_m.count()"
   ]
  },
  {
   "cell_type": "code",
   "execution_count": 72,
   "id": "4ea1a35f-470b-475c-8b16-82e026c3f802",
   "metadata": {},
   "outputs": [
    {
     "data": {
      "text/plain": [
       "Gender         0.669643\n",
       "Loan_Status    0.669643\n",
       "dtype: float64"
      ]
     },
     "execution_count": 72,
     "metadata": {},
     "output_type": "execute_result"
    }
   ],
   "source": [
    "# Females aprroval rate\n",
    "df_f[df_f['Loan_Status'] == 'Y'].count()/ df_f.count()"
   ]
  },
  {
   "cell_type": "code",
   "execution_count": 77,
   "id": "c7a874d6-74bd-4aed-af6a-cd0a3fc069b8",
   "metadata": {},
   "outputs": [
    {
     "data": {
      "text/plain": [
       "Gender         0.306748\n",
       "Loan_Status    0.306748\n",
       "dtype: float64"
      ]
     },
     "execution_count": 77,
     "metadata": {},
     "output_type": "execute_result"
    }
   ],
   "source": [
    "# Males aprroval rate\n",
    "df_m[df_m['Loan_Status'] == 'N'].count()/ df_m.count()"
   ]
  },
  {
   "cell_type": "code",
   "execution_count": null,
   "id": "73a444f0-0748-41db-b577-3b6e0aea566f",
   "metadata": {},
   "outputs": [],
   "source": [
    "# Woah - that seems quite different - must be other factors at play - like amount asked for etc..."
   ]
  },
  {
   "cell_type": "markdown",
   "id": "607ef613-6a84-46f3-a914-6b911c586f9e",
   "metadata": {},
   "source": [
    "#### 7. Married / dependents\n",
    "Think married higher and with dependants higher"
   ]
  },
  {
   "cell_type": "code",
   "execution_count": null,
   "id": "2b1f6547-e4b8-48a1-9de2-37b5f4e262f4",
   "metadata": {},
   "outputs": [],
   "source": []
  },
  {
   "cell_type": "markdown",
   "id": "1f16eca5-8c8a-4d68-8452-f650b5be686b",
   "metadata": {},
   "source": [
    "#### 8. Loan amount\n",
    "Think this is co linked with income and loan term amount"
   ]
  },
  {
   "cell_type": "code",
   "execution_count": 25,
   "id": "bf0551bf-5e10-4ed9-b477-ad95753932f0",
   "metadata": {},
   "outputs": [
    {
     "data": {
      "text/plain": [
       "Index(['Loan_ID', 'Gender', 'Married', 'Dependents', 'Education',\n",
       "       'Self_Employed', 'ApplicantIncome', 'CoapplicantIncome', 'LoanAmount',\n",
       "       'Loan_Amount_Term', 'Credit_History', 'Property_Area', 'Loan_Status'],\n",
       "      dtype='object')"
      ]
     },
     "execution_count": 25,
     "metadata": {},
     "output_type": "execute_result"
    }
   ],
   "source": [
    "# PERHAPS INCOME? REQUEST?\n",
    "df.columns"
   ]
  },
  {
   "cell_type": "code",
   "execution_count": 34,
   "id": "9a2ddefe-bc2d-4264-91da-b31cd9f4c179",
   "metadata": {},
   "outputs": [
    {
     "data": {
      "text/html": [
       "<div>\n",
       "<style scoped>\n",
       "    .dataframe tbody tr th:only-of-type {\n",
       "        vertical-align: middle;\n",
       "    }\n",
       "\n",
       "    .dataframe tbody tr th {\n",
       "        vertical-align: top;\n",
       "    }\n",
       "\n",
       "    .dataframe thead th {\n",
       "        text-align: right;\n",
       "    }\n",
       "</style>\n",
       "<table border=\"1\" class=\"dataframe\">\n",
       "  <thead>\n",
       "    <tr style=\"text-align: right;\">\n",
       "      <th></th>\n",
       "      <th>Loan_ID</th>\n",
       "      <th>Gender</th>\n",
       "      <th>Married</th>\n",
       "      <th>Dependents</th>\n",
       "      <th>Education</th>\n",
       "      <th>Self_Employed</th>\n",
       "      <th>ApplicantIncome</th>\n",
       "      <th>CoapplicantIncome</th>\n",
       "      <th>LoanAmount</th>\n",
       "      <th>Loan_Amount_Term</th>\n",
       "      <th>Credit_History</th>\n",
       "      <th>Property_Area</th>\n",
       "      <th>Loan_Status</th>\n",
       "    </tr>\n",
       "  </thead>\n",
       "  <tbody>\n",
       "    <tr>\n",
       "      <th>19</th>\n",
       "      <td>LP001041</td>\n",
       "      <td>Male</td>\n",
       "      <td>Yes</td>\n",
       "      <td>0</td>\n",
       "      <td>Graduate</td>\n",
       "      <td>NaN</td>\n",
       "      <td>2600</td>\n",
       "      <td>3500.0</td>\n",
       "      <td>115.0</td>\n",
       "      <td>NaN</td>\n",
       "      <td>1.0</td>\n",
       "      <td>Urban</td>\n",
       "      <td>Y</td>\n",
       "    </tr>\n",
       "    <tr>\n",
       "      <th>36</th>\n",
       "      <td>LP001109</td>\n",
       "      <td>Male</td>\n",
       "      <td>Yes</td>\n",
       "      <td>0</td>\n",
       "      <td>Graduate</td>\n",
       "      <td>No</td>\n",
       "      <td>1828</td>\n",
       "      <td>1330.0</td>\n",
       "      <td>100.0</td>\n",
       "      <td>NaN</td>\n",
       "      <td>0.0</td>\n",
       "      <td>Urban</td>\n",
       "      <td>N</td>\n",
       "    </tr>\n",
       "    <tr>\n",
       "      <th>44</th>\n",
       "      <td>LP001136</td>\n",
       "      <td>Male</td>\n",
       "      <td>Yes</td>\n",
       "      <td>0</td>\n",
       "      <td>Not Graduate</td>\n",
       "      <td>Yes</td>\n",
       "      <td>4695</td>\n",
       "      <td>0.0</td>\n",
       "      <td>96.0</td>\n",
       "      <td>NaN</td>\n",
       "      <td>1.0</td>\n",
       "      <td>Urban</td>\n",
       "      <td>Y</td>\n",
       "    </tr>\n",
       "    <tr>\n",
       "      <th>45</th>\n",
       "      <td>LP001137</td>\n",
       "      <td>Female</td>\n",
       "      <td>No</td>\n",
       "      <td>0</td>\n",
       "      <td>Graduate</td>\n",
       "      <td>No</td>\n",
       "      <td>3410</td>\n",
       "      <td>0.0</td>\n",
       "      <td>88.0</td>\n",
       "      <td>NaN</td>\n",
       "      <td>1.0</td>\n",
       "      <td>Urban</td>\n",
       "      <td>Y</td>\n",
       "    </tr>\n",
       "    <tr>\n",
       "      <th>73</th>\n",
       "      <td>LP001250</td>\n",
       "      <td>Male</td>\n",
       "      <td>Yes</td>\n",
       "      <td>3+</td>\n",
       "      <td>Not Graduate</td>\n",
       "      <td>No</td>\n",
       "      <td>4755</td>\n",
       "      <td>0.0</td>\n",
       "      <td>95.0</td>\n",
       "      <td>NaN</td>\n",
       "      <td>0.0</td>\n",
       "      <td>Semiurban</td>\n",
       "      <td>N</td>\n",
       "    </tr>\n",
       "    <tr>\n",
       "      <th>112</th>\n",
       "      <td>LP001391</td>\n",
       "      <td>Male</td>\n",
       "      <td>Yes</td>\n",
       "      <td>0</td>\n",
       "      <td>Not Graduate</td>\n",
       "      <td>No</td>\n",
       "      <td>3572</td>\n",
       "      <td>4114.0</td>\n",
       "      <td>152.0</td>\n",
       "      <td>NaN</td>\n",
       "      <td>0.0</td>\n",
       "      <td>Rural</td>\n",
       "      <td>N</td>\n",
       "    </tr>\n",
       "    <tr>\n",
       "      <th>165</th>\n",
       "      <td>LP001574</td>\n",
       "      <td>Male</td>\n",
       "      <td>Yes</td>\n",
       "      <td>0</td>\n",
       "      <td>Graduate</td>\n",
       "      <td>No</td>\n",
       "      <td>3707</td>\n",
       "      <td>3166.0</td>\n",
       "      <td>182.0</td>\n",
       "      <td>NaN</td>\n",
       "      <td>1.0</td>\n",
       "      <td>Rural</td>\n",
       "      <td>Y</td>\n",
       "    </tr>\n",
       "    <tr>\n",
       "      <th>197</th>\n",
       "      <td>LP001669</td>\n",
       "      <td>Female</td>\n",
       "      <td>No</td>\n",
       "      <td>0</td>\n",
       "      <td>Not Graduate</td>\n",
       "      <td>No</td>\n",
       "      <td>1907</td>\n",
       "      <td>2365.0</td>\n",
       "      <td>120.0</td>\n",
       "      <td>NaN</td>\n",
       "      <td>1.0</td>\n",
       "      <td>Urban</td>\n",
       "      <td>Y</td>\n",
       "    </tr>\n",
       "    <tr>\n",
       "      <th>223</th>\n",
       "      <td>LP001749</td>\n",
       "      <td>Male</td>\n",
       "      <td>Yes</td>\n",
       "      <td>0</td>\n",
       "      <td>Graduate</td>\n",
       "      <td>No</td>\n",
       "      <td>7578</td>\n",
       "      <td>1010.0</td>\n",
       "      <td>175.0</td>\n",
       "      <td>NaN</td>\n",
       "      <td>1.0</td>\n",
       "      <td>Semiurban</td>\n",
       "      <td>Y</td>\n",
       "    </tr>\n",
       "    <tr>\n",
       "      <th>232</th>\n",
       "      <td>LP001770</td>\n",
       "      <td>Male</td>\n",
       "      <td>No</td>\n",
       "      <td>0</td>\n",
       "      <td>Not Graduate</td>\n",
       "      <td>No</td>\n",
       "      <td>3189</td>\n",
       "      <td>2598.0</td>\n",
       "      <td>120.0</td>\n",
       "      <td>NaN</td>\n",
       "      <td>1.0</td>\n",
       "      <td>Rural</td>\n",
       "      <td>Y</td>\n",
       "    </tr>\n",
       "    <tr>\n",
       "      <th>335</th>\n",
       "      <td>LP002106</td>\n",
       "      <td>Male</td>\n",
       "      <td>Yes</td>\n",
       "      <td>NaN</td>\n",
       "      <td>Graduate</td>\n",
       "      <td>Yes</td>\n",
       "      <td>5503</td>\n",
       "      <td>4490.0</td>\n",
       "      <td>70.0</td>\n",
       "      <td>NaN</td>\n",
       "      <td>1.0</td>\n",
       "      <td>Semiurban</td>\n",
       "      <td>Y</td>\n",
       "    </tr>\n",
       "    <tr>\n",
       "      <th>367</th>\n",
       "      <td>LP002188</td>\n",
       "      <td>Male</td>\n",
       "      <td>No</td>\n",
       "      <td>0</td>\n",
       "      <td>Graduate</td>\n",
       "      <td>No</td>\n",
       "      <td>5124</td>\n",
       "      <td>0.0</td>\n",
       "      <td>124.0</td>\n",
       "      <td>NaN</td>\n",
       "      <td>0.0</td>\n",
       "      <td>Rural</td>\n",
       "      <td>N</td>\n",
       "    </tr>\n",
       "    <tr>\n",
       "      <th>421</th>\n",
       "      <td>LP002357</td>\n",
       "      <td>Female</td>\n",
       "      <td>No</td>\n",
       "      <td>0</td>\n",
       "      <td>Not Graduate</td>\n",
       "      <td>No</td>\n",
       "      <td>2720</td>\n",
       "      <td>0.0</td>\n",
       "      <td>80.0</td>\n",
       "      <td>NaN</td>\n",
       "      <td>0.0</td>\n",
       "      <td>Urban</td>\n",
       "      <td>N</td>\n",
       "    </tr>\n",
       "    <tr>\n",
       "      <th>423</th>\n",
       "      <td>LP002362</td>\n",
       "      <td>Male</td>\n",
       "      <td>Yes</td>\n",
       "      <td>1</td>\n",
       "      <td>Graduate</td>\n",
       "      <td>No</td>\n",
       "      <td>7250</td>\n",
       "      <td>1667.0</td>\n",
       "      <td>110.0</td>\n",
       "      <td>NaN</td>\n",
       "      <td>0.0</td>\n",
       "      <td>Urban</td>\n",
       "      <td>N</td>\n",
       "    </tr>\n",
       "  </tbody>\n",
       "</table>\n",
       "</div>"
      ],
      "text/plain": [
       "      Loan_ID  Gender Married Dependents     Education Self_Employed  \\\n",
       "19   LP001041    Male     Yes          0      Graduate           NaN   \n",
       "36   LP001109    Male     Yes          0      Graduate            No   \n",
       "44   LP001136    Male     Yes          0  Not Graduate           Yes   \n",
       "45   LP001137  Female      No          0      Graduate            No   \n",
       "73   LP001250    Male     Yes         3+  Not Graduate            No   \n",
       "112  LP001391    Male     Yes          0  Not Graduate            No   \n",
       "165  LP001574    Male     Yes          0      Graduate            No   \n",
       "197  LP001669  Female      No          0  Not Graduate            No   \n",
       "223  LP001749    Male     Yes          0      Graduate            No   \n",
       "232  LP001770    Male      No          0  Not Graduate            No   \n",
       "335  LP002106    Male     Yes        NaN      Graduate           Yes   \n",
       "367  LP002188    Male      No          0      Graduate            No   \n",
       "421  LP002357  Female      No          0  Not Graduate            No   \n",
       "423  LP002362    Male     Yes          1      Graduate            No   \n",
       "\n",
       "     ApplicantIncome  CoapplicantIncome  LoanAmount  Loan_Amount_Term  \\\n",
       "19              2600             3500.0       115.0               NaN   \n",
       "36              1828             1330.0       100.0               NaN   \n",
       "44              4695                0.0        96.0               NaN   \n",
       "45              3410                0.0        88.0               NaN   \n",
       "73              4755                0.0        95.0               NaN   \n",
       "112             3572             4114.0       152.0               NaN   \n",
       "165             3707             3166.0       182.0               NaN   \n",
       "197             1907             2365.0       120.0               NaN   \n",
       "223             7578             1010.0       175.0               NaN   \n",
       "232             3189             2598.0       120.0               NaN   \n",
       "335             5503             4490.0        70.0               NaN   \n",
       "367             5124                0.0       124.0               NaN   \n",
       "421             2720                0.0        80.0               NaN   \n",
       "423             7250             1667.0       110.0               NaN   \n",
       "\n",
       "     Credit_History Property_Area Loan_Status  \n",
       "19              1.0         Urban           Y  \n",
       "36              0.0         Urban           N  \n",
       "44              1.0         Urban           Y  \n",
       "45              1.0         Urban           Y  \n",
       "73              0.0     Semiurban           N  \n",
       "112             0.0         Rural           N  \n",
       "165             1.0         Rural           Y  \n",
       "197             1.0         Urban           Y  \n",
       "223             1.0     Semiurban           Y  \n",
       "232             1.0         Rural           Y  \n",
       "335             1.0     Semiurban           Y  \n",
       "367             0.0         Rural           N  \n",
       "421             0.0         Urban           N  \n",
       "423             0.0         Urban           N  "
      ]
     },
     "execution_count": 34,
     "metadata": {},
     "output_type": "execute_result"
    }
   ],
   "source": [
    "#\n",
    "df[df['Loan_Amount_Term'].isna() == True]"
   ]
  },
  {
   "cell_type": "code",
   "execution_count": null,
   "id": "ec6e9eb2-f3cc-4ab7-a64a-c746b84b8a2a",
   "metadata": {},
   "outputs": [],
   "source": []
  }
 ],
 "metadata": {
  "kernelspec": {
   "display_name": "bootcamp_env",
   "language": "python",
   "name": "bootcamp_env"
  },
  "language_info": {
   "codemirror_mode": {
    "name": "ipython",
    "version": 3
   },
   "file_extension": ".py",
   "mimetype": "text/x-python",
   "name": "python",
   "nbconvert_exporter": "python",
   "pygments_lexer": "ipython3",
   "version": "3.8.5"
  }
 },
 "nbformat": 4,
 "nbformat_minor": 5
}
