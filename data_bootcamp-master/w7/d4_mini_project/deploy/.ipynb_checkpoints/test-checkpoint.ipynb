{
 "cells": [
  {
   "cell_type": "code",
   "execution_count": null,
   "id": "cad82a81-d494-40d8-a230-0e1bb7f9b98b",
   "metadata": {},
   "outputs": [],
   "source": [
    "handle_unknown =\"ignore\"\n",
    "h=pd.json_normalize(json_data)\n",
    "df_new['Dependents']=df_new.ApplicantIncome.astype(\"float64\")\n",
    "df_new['Loan_Amount_Term']=df_new.ApplicantIncome.astype(\"float64\")\n",
    "h.dtypes\n",
    "y_pred = model.predict(h)\n",
    "y_pred"
   ]
  },
  {
   "cell_type": "code",
   "execution_count": 1,
   "id": "c67a061d-d729-4456-8fc9-7ee470f73c1c",
   "metadata": {},
   "outputs": [
    {
     "name": "stdout",
     "output_type": "stream",
     "text": [
      "...\n",
      "request successful\n",
      "...\n",
      "{'result': 'You have been approved!'}\n"
     ]
    },
    {
     "data": {
      "text/plain": [
       "<Response [200]>"
      ]
     },
     "execution_count": 1,
     "metadata": {},
     "output_type": "execute_result"
    }
   ],
   "source": [
    "import requests as r\n",
    "import pandas as pd\n",
    "import json\n",
    "\n",
    "json_data ={\n",
    "\"Gender\":\"Male\",\n",
    "\"Married\":\"No\",\n",
    "\"Dependents\":'0',\n",
    "\"Education\":\"Graduate\",\n",
    "\"Self_Employed\":\"No\",\n",
    "\"ApplicantIncome\":5849,\n",
    "\"CoapplicantIncome\":0.0,\n",
    "\"LoanAmount\":357.0,\n",
    "\"Loan_Amount_Term\":360.0,\n",
    "\"Credit_History\":1.0,\n",
    "\"Property_Area\":\"Urban\"\n",
    "}\n",
    "\n",
    "base_url = \"http://ec2-18-191-20-44.us-east-2.compute.amazonaws.com:5000/\"\n",
    "response = r.post(base_url + 'predict', json = json_data)\n",
    "\n",
    "if response.status_code == 200:\n",
    "    print(\"...\")\n",
    "    print(\"request successful\")\n",
    "    print(\"...\")\n",
    "    print(response.json())\n",
    "else:\n",
    "    print(\"response failed\")\n",
    "response"
   ]
  },
  {
   "cell_type": "code",
   "execution_count": null,
   "id": "72838bd0-b9da-4463-80de-a0103d5fd996",
   "metadata": {},
   "outputs": [],
   "source": []
  }
 ],
 "metadata": {
  "kernelspec": {
   "display_name": "bootcamp_env",
   "language": "python",
   "name": "bootcamp_env"
  },
  "language_info": {
   "codemirror_mode": {
    "name": "ipython",
    "version": 3
   },
   "file_extension": ".py",
   "mimetype": "text/x-python",
   "name": "python",
   "nbconvert_exporter": "python",
   "pygments_lexer": "ipython3",
   "version": "3.8.5"
  }
 },
 "nbformat": 4,
 "nbformat_minor": 5
}
