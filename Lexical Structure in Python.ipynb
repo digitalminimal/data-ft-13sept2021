{
 "cells": [
  {
   "cell_type": "markdown",
   "id": "8842fdf8-be91-4bc7-921b-6571b736aff4",
   "metadata": {},
   "source": [
    "##### Here’s what you’ll learn in this tutorial: You’ll dig deeper into Python lexical structure. You’ll learn about the syntactic elements that comprise statements, the basic units that make up a Python program. This will prepare you for the next few tutorials covering control structures, constructs that direct program flow among different groups of code."
   ]
  },
  {
   "cell_type": "markdown",
   "id": "cd7e4aa7-f5ea-449e-bca4-6744bb0b1ec8",
   "metadata": {},
   "source": [
    "Note: The Style Guide for Python Code is also referred to as PEP 8. PEP stands for Python Enhancement Proposal. PEPs are documents that contain details about features, standards, design issues, general guidelines, and information relating to Python. For more information, see the Python Software Foundation Index of PEPs."
   ]
  },
  {
   "cell_type": "code",
   "execution_count": null,
   "id": "162ea3d5-9a60-40b6-809d-602378617a65",
   "metadata": {},
   "outputs": [],
   "source": []
  }
 ],
 "metadata": {
  "kernelspec": {
   "display_name": "the_one",
   "language": "python",
   "name": "the_one"
  },
  "language_info": {
   "codemirror_mode": {
    "name": "ipython",
    "version": 3
   },
   "file_extension": ".py",
   "mimetype": "text/x-python",
   "name": "python",
   "nbconvert_exporter": "python",
   "pygments_lexer": "ipython3",
   "version": "3.9.6"
  }
 },
 "nbformat": 4,
 "nbformat_minor": 5
}
