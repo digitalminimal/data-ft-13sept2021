{
 "cells": [
  {
   "cell_type": "code",
   "execution_count": null,
   "id": "6b4142be-277a-4ff7-89e2-c3180ba383fc",
   "metadata": {},
   "outputs": [
    {
     "name": "stdout",
     "output_type": "stream",
     "text": [
      "Requirement already satisfied: python-twitter in /Users/digitalminimal/opt/miniconda3/envs/the_one/lib/python3.9/site-packages (3.5)\n",
      "Requirement already satisfied: requests-oauthlib in /Users/digitalminimal/opt/miniconda3/envs/the_one/lib/python3.9/site-packages (from python-twitter) (1.3.0)\n",
      "Requirement already satisfied: future in /Users/digitalminimal/opt/miniconda3/envs/the_one/lib/python3.9/site-packages (from python-twitter) (0.18.2)\n",
      "Requirement already satisfied: requests in /Users/digitalminimal/opt/miniconda3/envs/the_one/lib/python3.9/site-packages (from python-twitter) (2.26.0)\n",
      "Requirement already satisfied: charset-normalizer~=2.0.0 in /Users/digitalminimal/opt/miniconda3/envs/the_one/lib/python3.9/site-packages (from requests->python-twitter) (2.0.4)\n",
      "Requirement already satisfied: urllib3<1.27,>=1.21.1 in /Users/digitalminimal/opt/miniconda3/envs/the_one/lib/python3.9/site-packages (from requests->python-twitter) (1.26.6)\n",
      "Requirement already satisfied: idna<4,>=2.5 in /Users/digitalminimal/opt/miniconda3/envs/the_one/lib/python3.9/site-packages (from requests->python-twitter) (3.2)\n",
      "Requirement already satisfied: certifi>=2017.4.17 in /Users/digitalminimal/opt/miniconda3/envs/the_one/lib/python3.9/site-packages (from requests->python-twitter) (2021.5.30)\n",
      "Requirement already satisfied: oauthlib>=3.0.0 in /Users/digitalminimal/opt/miniconda3/envs/the_one/lib/python3.9/site-packages (from requests-oauthlib->python-twitter) (3.1.1)\n"
     ]
    }
   ],
   "source": [
    "!pip install python-twitter\n",
    "import requests as re\n",
    "import os # ?\n",
    "import json\n",
    "import twitter\n",
    "import config as cfg\n",
    "\n",
    "consumer_key = cfg.twitter['API_Key']\n",
    "consumer_secret = cfg.twitter['API_Key_Secret']\n",
    "access_token = cfg.twitter['Access_Token']\n",
    "access_token_secret = cfg.twitter['Access_Token_Secret']\n",
    "\n",
    "api = twitter.Api(consumer_key=consumer_key,\n",
    "                  consumer_secret=consumer_secret,\n",
    "                  access_token_key=access_token,\n",
    "                  access_token_secret=access_token_secret)\n",
    "\n",
    "## FOLLOWING FUNCTION WILL COLLECT REAL-TIME TWEETS IN OUR COMPUTER\n",
    "\n",
    "# data returned will be for any tweet mentioning strings in the list FILTER\n",
    "FILTER = [\":)\"]\n",
    "\n",
    "# Languages to filter tweets by is a list. This will be joined by Twitter\n",
    "# to return data mentioning tweets only in the english language.\n",
    "LANGUAGES = ['en']\n",
    "storage_location = \"outputhappyface.txt\"\n",
    "_location = [\"-122.75,36.8\",\"-121.75,37.8\"]\n",
    "def main():\n",
    "    with open(storage_location, 'a') as f:\n",
    "        # api.GetStreamFilter will return a generator that yields one status\n",
    "        # message (i.e., Tweet) at a time as a JSON dictionary.\n",
    "        for line in api.GetStreamFilter(track=FILTER, languages=LANGUAGES, locations=_location):\n",
    "            f.write(json.dumps(line))\n",
    "            f.write('\\n')\n",
    "            \n",
    "main()"
   ]
  },
  {
   "cell_type": "code",
   "execution_count": null,
   "id": "2702e976-0493-4c23-84a5-c54ad547a419",
   "metadata": {},
   "outputs": [],
   "source": []
  }
 ],
 "metadata": {
  "kernelspec": {
   "display_name": "the_one",
   "language": "python",
   "name": "the_one"
  },
  "language_info": {
   "codemirror_mode": {
    "name": "ipython",
    "version": 3
   },
   "file_extension": ".py",
   "mimetype": "text/x-python",
   "name": "python",
   "nbconvert_exporter": "python",
   "pygments_lexer": "ipython3",
   "version": "3.9.6"
  }
 },
 "nbformat": 4,
 "nbformat_minor": 5
}
